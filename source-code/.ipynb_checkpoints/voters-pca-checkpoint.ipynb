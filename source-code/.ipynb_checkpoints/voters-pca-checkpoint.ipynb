{
 "cells": [
  {
   "cell_type": "markdown",
   "metadata": {},
   "source": [
    "# 2016 Voter Survey\n",
    "\n",
    "\n",
    "## Citation\n",
    "To reference the VOTER survey, please use this protocol:\n",
    "Democracy Fund Voter Study Group. VIEWS OF THE ELECTORATE RESEARCH SURVEY, December 2016. [Computer File] Release 1: August 28, 2017. Washington DC: Democracy Fund Voter Study\n",
    "Group [producer] https://www.voterstudygroup.org/.\n",
    "\n",
    "## Summary\n",
    "\n",
    "YouGov, a global political survey firm, conducted an online survey between November 29 and December 29, 2016 on political beliefs. The survey was conducted after realizing the need to better understand voters' decision-making processes when given certain candidate choices. Around 8,000 adults took the survey, resulting in this dataset.\n",
    "\n",
    "## Features\n",
    "Each of the following questions were answered with the following labels:\n",
    "\n",
    "- Very favorable  \n",
    "- Somewhat favorable  \n",
    "- Somewhat unfavorable  \n",
    "- Very unfavorable  \n",
    "- Don't know  \n",
    "\n",
    "**fav_trump_2016**: Do you have a favorable or an unfavorable opinion of the following\n",
    "people? DONALD TRUMP  \n",
    "\n",
    "**fav_cruz_2016**: Do you have a favorable or an unfavorable opinion of the following\n",
    "people? TED CRUZ  \n",
    "\n",
    "**fav_ryan_2016**: Do you have a favorable or an unfavorable opinion of the following\n",
    "people? PAUL RYAN  \n",
    "\n",
    "**fav_romn_2016**: Do you have a favorable or an unfavorable opinion of the following\n",
    "people?  MITT ROMNEY\n",
    "\n",
    "**fav_obama_2016**: Do you have a favorable or an unfavorable opinion of the following\n",
    "people? BARACK OBAMA  \n",
    "\n",
    "**fav_hrc_2016**: Do you have a favorable or an unfavorable opinion of the following\n",
    "people? HILLARY CLINTON  \n",
    "\n",
    "**fav_sanders_2016**: Do you have a favorable or an unfavorable opinion of the following\n",
    "people? BERNIE SANDERS  \n",
    "\n",
    "**fav_rubio_2016**:Do you have a favorable or an unfavorable opinion of the following\n",
    "people? MARCO RUBIO  \n",
    "\n",
    "## Target\n",
    "\n",
    "**presvote16post_2016**: Who did you vote for in the election for President? (order of\n",
    "Clinton and Trump randomized)  \n",
    "\n",
    "- Hillary Clinton\n",
    "\n",
    "- Donald Trump  \n",
    "\n",
    "- Gary Johnson  \n",
    "\n",
    "- Jill Stein  \n",
    "\n",
    "- Evan McMullin  \n",
    "\n",
    "- Other  \n",
    "\n",
    "- Did not vote for President  \n",
    "\n",
    "\n",
    "## Motivation\n",
    "\n",
    "Given the selection of candidates on a ballot, how do voters decide which candidate to cast their vote to? Before any type of political election, voters must consolidate their thoughts and evaluate each candidate to see who is the best fit. Consolidation of values, backgrounds, the future and more are all important factors considered by voters. Of course, voters typically support candidates that promise reforms aligning with their own personal beliefs of where the country should go. Often times, voters' top choices are not always in the final running, so how do people adjust their decisions based on the remaining candidates? And breaking beyond the surface, I want to see if there is a separating feature that causes the divide in the political sphere. For instance, how did the differences and divide amongst one of the most popular particians, Republicans vs. Democrats, in our government came out? \n",
    "\n",
    "My main goal for this project is to discover the relationship between a voter's view on potential candidates to who they actually cast their ballot for. To assist this task, I took data from a 2016 election survey, which contains answers from 8,000 participants about their political views. I decided to focus on how each survey taker felt about the potential candidates (features 29-37) and who the survey taker actually voted for (feature 14). I utilize Principle Component Analysis (PCA) in order to reduce dimensionality of the space in order to visualize how voters fit on the political spectrum. "
   ]
  },
  {
   "cell_type": "code",
   "execution_count": 1,
   "metadata": {},
   "outputs": [],
   "source": [
    "import pandas as pd\n",
    "import numpy as np\n",
    "import matplotlib.pyplot as plt\n",
    "%matplotlib inline\n",
    "\n",
    "from sklearn.decomposition import PCA"
   ]
  },
  {
   "cell_type": "code",
   "execution_count": 2,
   "metadata": {},
   "outputs": [
    {
     "data": {
      "text/html": [
       "<div>\n",
       "<style scoped>\n",
       "    .dataframe tbody tr th:only-of-type {\n",
       "        vertical-align: middle;\n",
       "    }\n",
       "\n",
       "    .dataframe tbody tr th {\n",
       "        vertical-align: top;\n",
       "    }\n",
       "\n",
       "    .dataframe thead th {\n",
       "        text-align: right;\n",
       "    }\n",
       "</style>\n",
       "<table border=\"1\" class=\"dataframe\">\n",
       "  <thead>\n",
       "    <tr style=\"text-align: right;\">\n",
       "      <th></th>\n",
       "      <th>case_identifier</th>\n",
       "      <th>weight</th>\n",
       "      <th>PARTY_AGENDAS_rand_2016</th>\n",
       "      <th>pp_primary16_2016</th>\n",
       "      <th>pp_demprim16_2016</th>\n",
       "      <th>pp_repprim16_2016</th>\n",
       "      <th>inputstate_2016</th>\n",
       "      <th>izip_2016</th>\n",
       "      <th>votereg2_2016</th>\n",
       "      <th>votereg_f_2016</th>\n",
       "      <th>...</th>\n",
       "      <th>post_HouseCand3Name_2012</th>\n",
       "      <th>post_HouseCand3Party_2012</th>\n",
       "      <th>post_SenCand1Name_2012</th>\n",
       "      <th>post_SenCand1Party_2012</th>\n",
       "      <th>post_SenCand2Name_2012</th>\n",
       "      <th>post_SenCand2Party_2012</th>\n",
       "      <th>post_SenCand3Name_2012</th>\n",
       "      <th>post_SenCand3Party_2012</th>\n",
       "      <th>starttime_2016</th>\n",
       "      <th>endtime_2016</th>\n",
       "    </tr>\n",
       "  </thead>\n",
       "  <tbody>\n",
       "    <tr>\n",
       "      <th>0</th>\n",
       "      <td>779</td>\n",
       "      <td>0.358213</td>\n",
       "      <td>Republican Party</td>\n",
       "      <td>In the Democratic primary</td>\n",
       "      <td>Hillary Clinton</td>\n",
       "      <td>NaN</td>\n",
       "      <td>California</td>\n",
       "      <td>94952</td>\n",
       "      <td>Yes</td>\n",
       "      <td>Yes</td>\n",
       "      <td>...</td>\n",
       "      <td>NaN</td>\n",
       "      <td>NaN</td>\n",
       "      <td>Shelley Berkley</td>\n",
       "      <td>Democratic</td>\n",
       "      <td>Dean Heller</td>\n",
       "      <td>Republican</td>\n",
       "      <td>NaN</td>\n",
       "      <td>NaN</td>\n",
       "      <td>29nov2016 22:59:43</td>\n",
       "      <td>29nov2016 23:28:24</td>\n",
       "    </tr>\n",
       "    <tr>\n",
       "      <th>1</th>\n",
       "      <td>2108</td>\n",
       "      <td>0.562867</td>\n",
       "      <td>Republican Party</td>\n",
       "      <td>In the Republican primary</td>\n",
       "      <td>NaN</td>\n",
       "      <td>Donald Trump</td>\n",
       "      <td>Arizona</td>\n",
       "      <td>85298</td>\n",
       "      <td>Yes</td>\n",
       "      <td>Yes</td>\n",
       "      <td>...</td>\n",
       "      <td>NaN</td>\n",
       "      <td>NaN</td>\n",
       "      <td>Richard Carmona</td>\n",
       "      <td>Democratic</td>\n",
       "      <td>Jeff Flake</td>\n",
       "      <td>Republican</td>\n",
       "      <td>NaN</td>\n",
       "      <td>NaN</td>\n",
       "      <td>29nov2016 15:41:28</td>\n",
       "      <td>29nov2016 18:58:28</td>\n",
       "    </tr>\n",
       "    <tr>\n",
       "      <th>2</th>\n",
       "      <td>2597</td>\n",
       "      <td>0.552138</td>\n",
       "      <td>Republican Party</td>\n",
       "      <td>In the Democratic primary</td>\n",
       "      <td>Hillary Clinton</td>\n",
       "      <td>NaN</td>\n",
       "      <td>Wisconsin</td>\n",
       "      <td>54904</td>\n",
       "      <td>Yes</td>\n",
       "      <td>Yes</td>\n",
       "      <td>...</td>\n",
       "      <td>NaN</td>\n",
       "      <td>NaN</td>\n",
       "      <td>Tammy Baldwin</td>\n",
       "      <td>Democratic</td>\n",
       "      <td>Tommy Thompson</td>\n",
       "      <td>Republican</td>\n",
       "      <td>NaN</td>\n",
       "      <td>NaN</td>\n",
       "      <td>29nov2016 16:08:39</td>\n",
       "      <td>29nov2016 16:32:43</td>\n",
       "    </tr>\n",
       "  </tbody>\n",
       "</table>\n",
       "<p>3 rows × 668 columns</p>\n",
       "</div>"
      ],
      "text/plain": [
       "   case_identifier    weight PARTY_AGENDAS_rand_2016  \\\n",
       "0              779  0.358213        Republican Party   \n",
       "1             2108  0.562867        Republican Party   \n",
       "2             2597  0.552138        Republican Party   \n",
       "\n",
       "           pp_primary16_2016 pp_demprim16_2016 pp_repprim16_2016  \\\n",
       "0  In the Democratic primary   Hillary Clinton               NaN   \n",
       "1  In the Republican primary               NaN      Donald Trump   \n",
       "2  In the Democratic primary   Hillary Clinton               NaN   \n",
       "\n",
       "  inputstate_2016  izip_2016 votereg2_2016 votereg_f_2016         ...          \\\n",
       "0      California      94952           Yes            Yes         ...           \n",
       "1         Arizona      85298           Yes            Yes         ...           \n",
       "2       Wisconsin      54904           Yes            Yes         ...           \n",
       "\n",
       "   post_HouseCand3Name_2012 post_HouseCand3Party_2012 post_SenCand1Name_2012  \\\n",
       "0                       NaN                       NaN        Shelley Berkley   \n",
       "1                       NaN                       NaN        Richard Carmona   \n",
       "2                       NaN                       NaN          Tammy Baldwin   \n",
       "\n",
       "  post_SenCand1Party_2012 post_SenCand2Name_2012 post_SenCand2Party_2012  \\\n",
       "0              Democratic            Dean Heller              Republican   \n",
       "1              Democratic             Jeff Flake              Republican   \n",
       "2              Democratic         Tommy Thompson              Republican   \n",
       "\n",
       "  post_SenCand3Name_2012 post_SenCand3Party_2012      starttime_2016  \\\n",
       "0                    NaN                     NaN  29nov2016 22:59:43   \n",
       "1                    NaN                     NaN  29nov2016 15:41:28   \n",
       "2                    NaN                     NaN  29nov2016 16:08:39   \n",
       "\n",
       "         endtime_2016  \n",
       "0  29nov2016 23:28:24  \n",
       "1  29nov2016 18:58:28  \n",
       "2  29nov2016 16:32:43  \n",
       "\n",
       "[3 rows x 668 columns]"
      ]
     },
     "execution_count": 2,
     "metadata": {},
     "output_type": "execute_result"
    }
   ],
   "source": [
    "voter_2016 = pd.read_csv('VOTER_Survey_December16_Release1.csv', low_memory = False)\n",
    "\n",
    "voter_2016.head(3)"
   ]
  },
  {
   "cell_type": "code",
   "execution_count": 3,
   "metadata": {},
   "outputs": [],
   "source": [
    "# see what candidate survey taker prefers \n",
    "candidates_favor = voter_2016.columns.values[29:37]\n",
    "\n",
    "rating_scale = np.array([\"Very favorable\", \"Somewhat favorable\",\n",
    "             \"Somewhat unfavorable\", \"Very unfavorable\",\n",
    "             \"Don't know\", \"\"])\n",
    "\n",
    "# create dictionary to map numeric values to survey taker reactions \n",
    "rating_dict = {\"Very favorable\": 2, \"Somewhat favorable\": 1,\n",
    "             \"Somewhat unfavorable\": -1, \"Very unfavorable\": -2,\n",
    "             \"Don't know\": 0, \"\": 0}\n",
    "\n",
    "# target is who the survey taker voted for\n",
    "actualVote = voter_2016.columns.values[14]\n",
    "\n",
    "target_dict = {\"Hillary Clinton\":1, \"Donald Trump\":2, \n",
    "               \"Gary Johnson\": 3, \"Jill Stein\": 4, \n",
    "               \"Evan McMullin\": 5, \"Other\": 6, \n",
    "               \"Did not vote for President\": 7, \n",
    "               \".\": 0 }"
   ]
  },
  {
   "cell_type": "code",
   "execution_count": 4,
   "metadata": {},
   "outputs": [],
   "source": [
    "favorable_opinion_matrix = voter_2016.loc[:,candidates_favor]\n",
    "target = voter_2016.loc[:,actualVote]\n",
    "for col in range(len(candidates_favor)):\n",
    "    # convert text to numeric values\n",
    "    favorable_opinion_matrix[candidates_favor[col]] = favorable_opinion_matrix[candidates_favor[col]].map(rating_dict)\n",
    "    # replacing all nans with 0\n",
    "    favorable_opinion_matrix[candidates_favor[col]].fillna(0, inplace = True) \n",
    "\n",
    "# fill nans for columns \n",
    "target.fillna(0,inplace= True)"
   ]
  },
  {
   "cell_type": "code",
   "execution_count": 5,
   "metadata": {},
   "outputs": [],
   "source": [
    "# concatentate targets to original data frame \n",
    "new_df = pd.concat([favorable_opinion_matrix, target], axis=1)\n",
    "# map numerical values to candidates for visualization purposes\n",
    "new_df['presvote16post_2016'] = new_df['presvote16post_2016'].map(target_dict)\n"
   ]
  },
  {
   "cell_type": "code",
   "execution_count": 6,
   "metadata": {},
   "outputs": [
    {
     "name": "stdout",
     "output_type": "stream",
     "text": [
      "False\n",
      "False\n"
     ]
    }
   ],
   "source": [
    "# checking if all nans are gone\n",
    "print(favorable_opinion_matrix.isnull().values.any())\n",
    "print(target.isnull().values.any())"
   ]
  },
  {
   "cell_type": "code",
   "execution_count": 7,
   "metadata": {},
   "outputs": [],
   "source": [
    "# perform PCA\n",
    "q = 4\n",
    "pca = PCA(n_components = q)\n",
    "Z = pca.fit_transform(favorable_opinion_matrix)\n",
    "var_ratio = pca.explained_variance_ratio_\n",
    "\n",
    "principalDf = pd.DataFrame(data = Z\n",
    "             , columns = ['principal component 1', 'principal component 2','principal component 3', 'principal component 4'])"
   ]
  },
  {
   "cell_type": "code",
   "execution_count": 8,
   "metadata": {},
   "outputs": [
    {
     "data": {
      "text/plain": [
       "array([[ 0.42928519,  0.32891668,  0.27049132,  0.15370247, -0.46200778,\n",
       "        -0.41350862, -0.36246199,  0.30808893],\n",
       "       [-0.17763207,  0.22384456,  0.48470078,  0.58534096,  0.27165757,\n",
       "         0.28000293,  0.24293107,  0.35995359],\n",
       "       [-0.09971252, -0.53870264,  0.04219436,  0.48449483, -0.21722557,\n",
       "        -0.51887992,  0.32168304, -0.2084178 ],\n",
       "       [-0.41186077, -0.19385899, -0.08531805,  0.3470401 , -0.0330232 ,\n",
       "         0.15589904, -0.79445237, -0.09232433]])"
      ]
     },
     "execution_count": 8,
     "metadata": {},
     "output_type": "execute_result"
    }
   ],
   "source": [
    "pca.components_"
   ]
  },
  {
   "cell_type": "code",
   "execution_count": 9,
   "metadata": {},
   "outputs": [
    {
     "data": {
      "text/html": [
       "<div>\n",
       "<style scoped>\n",
       "    .dataframe tbody tr th:only-of-type {\n",
       "        vertical-align: middle;\n",
       "    }\n",
       "\n",
       "    .dataframe tbody tr th {\n",
       "        vertical-align: top;\n",
       "    }\n",
       "\n",
       "    .dataframe thead th {\n",
       "        text-align: right;\n",
       "    }\n",
       "</style>\n",
       "<table border=\"1\" class=\"dataframe\">\n",
       "  <thead>\n",
       "    <tr style=\"text-align: right;\">\n",
       "      <th></th>\n",
       "      <th>fav_trump_2016</th>\n",
       "      <th>fav_cruz_2016</th>\n",
       "      <th>fav_ryan_2016</th>\n",
       "      <th>fav_romn_2016</th>\n",
       "      <th>fav_obama_2016</th>\n",
       "      <th>fav_hrc_2016</th>\n",
       "      <th>fav_sanders_2016</th>\n",
       "      <th>fav_rubio_2016</th>\n",
       "    </tr>\n",
       "  </thead>\n",
       "  <tbody>\n",
       "    <tr>\n",
       "      <th>0</th>\n",
       "      <td>-2.0</td>\n",
       "      <td>-2.0</td>\n",
       "      <td>-1.0</td>\n",
       "      <td>-1.0</td>\n",
       "      <td>2.0</td>\n",
       "      <td>2.0</td>\n",
       "      <td>2.0</td>\n",
       "      <td>-1.0</td>\n",
       "    </tr>\n",
       "    <tr>\n",
       "      <th>1</th>\n",
       "      <td>2.0</td>\n",
       "      <td>2.0</td>\n",
       "      <td>2.0</td>\n",
       "      <td>2.0</td>\n",
       "      <td>-2.0</td>\n",
       "      <td>-2.0</td>\n",
       "      <td>-2.0</td>\n",
       "      <td>2.0</td>\n",
       "    </tr>\n",
       "    <tr>\n",
       "      <th>2</th>\n",
       "      <td>-2.0</td>\n",
       "      <td>-2.0</td>\n",
       "      <td>-2.0</td>\n",
       "      <td>-2.0</td>\n",
       "      <td>2.0</td>\n",
       "      <td>2.0</td>\n",
       "      <td>1.0</td>\n",
       "      <td>-2.0</td>\n",
       "    </tr>\n",
       "  </tbody>\n",
       "</table>\n",
       "</div>"
      ],
      "text/plain": [
       "   fav_trump_2016  fav_cruz_2016  fav_ryan_2016  fav_romn_2016  \\\n",
       "0            -2.0           -2.0           -1.0           -1.0   \n",
       "1             2.0            2.0            2.0            2.0   \n",
       "2            -2.0           -2.0           -2.0           -2.0   \n",
       "\n",
       "   fav_obama_2016  fav_hrc_2016  fav_sanders_2016  fav_rubio_2016  \n",
       "0             2.0           2.0               2.0            -1.0  \n",
       "1            -2.0          -2.0              -2.0             2.0  \n",
       "2             2.0           2.0               1.0            -2.0  "
      ]
     },
     "execution_count": 9,
     "metadata": {},
     "output_type": "execute_result"
    }
   ],
   "source": [
    "# original dataframe\n",
    "favorable_opinion_matrix.head(3)"
   ]
  },
  {
   "cell_type": "code",
   "execution_count": 10,
   "metadata": {},
   "outputs": [
    {
     "data": {
      "text/html": [
       "<div>\n",
       "<style scoped>\n",
       "    .dataframe tbody tr th:only-of-type {\n",
       "        vertical-align: middle;\n",
       "    }\n",
       "\n",
       "    .dataframe tbody tr th {\n",
       "        vertical-align: top;\n",
       "    }\n",
       "\n",
       "    .dataframe thead th {\n",
       "        text-align: right;\n",
       "    }\n",
       "</style>\n",
       "<table border=\"1\" class=\"dataframe\">\n",
       "  <thead>\n",
       "    <tr style=\"text-align: right;\">\n",
       "      <th></th>\n",
       "      <th>principal component 1</th>\n",
       "      <th>principal component 2</th>\n",
       "      <th>principal component 3</th>\n",
       "      <th>principal component 4</th>\n",
       "      <th>presvote16post_2016</th>\n",
       "    </tr>\n",
       "  </thead>\n",
       "  <tbody>\n",
       "    <tr>\n",
       "      <th>0</th>\n",
       "      <td>-4.328888</td>\n",
       "      <td>0.762804</td>\n",
       "      <td>-0.276063</td>\n",
       "      <td>-0.267661</td>\n",
       "      <td>Hillary Clinton</td>\n",
       "    </tr>\n",
       "    <tr>\n",
       "      <th>1</th>\n",
       "      <td>5.852681</td>\n",
       "      <td>2.059273</td>\n",
       "      <td>-0.217220</td>\n",
       "      <td>0.503959</td>\n",
       "      <td>Donald Trump</td>\n",
       "    </tr>\n",
       "    <tr>\n",
       "      <th>2</th>\n",
       "      <td>-4.698709</td>\n",
       "      <td>-0.910123</td>\n",
       "      <td>-0.916017</td>\n",
       "      <td>0.357394</td>\n",
       "      <td>Hillary Clinton</td>\n",
       "    </tr>\n",
       "  </tbody>\n",
       "</table>\n",
       "</div>"
      ],
      "text/plain": [
       "   principal component 1  principal component 2  principal component 3  \\\n",
       "0              -4.328888               0.762804              -0.276063   \n",
       "1               5.852681               2.059273              -0.217220   \n",
       "2              -4.698709              -0.910123              -0.916017   \n",
       "\n",
       "   principal component 4 presvote16post_2016  \n",
       "0              -0.267661     Hillary Clinton  \n",
       "1               0.503959        Donald Trump  \n",
       "2               0.357394     Hillary Clinton  "
      ]
     },
     "execution_count": 10,
     "metadata": {},
     "output_type": "execute_result"
    }
   ],
   "source": [
    "# adding targets to new data frame \n",
    "new_principalDf = pd.concat([principalDf,target], axis=1)\n",
    "# visualize our principal component Data frame \n",
    "new_principalDf.head(3)"
   ]
  },
  {
   "cell_type": "code",
   "execution_count": 11,
   "metadata": {
    "scrolled": true
   },
   "outputs": [
    {
     "name": "stdout",
     "output_type": "stream",
     "text": [
      "Original Shape:  (8000, 8)\n",
      "Reduced Shape:  (8000, 4)\n"
     ]
    }
   ],
   "source": [
    "print ('Original Shape: ', favorable_opinion_matrix.shape)\n",
    "print ('Reduced Shape: ', Z.shape)"
   ]
  },
  {
   "cell_type": "code",
   "execution_count": 12,
   "metadata": {},
   "outputs": [
    {
     "name": "stdout",
     "output_type": "stream",
     "text": [
      "Ratio of variance explained:  [0.65525026 0.12418475 0.05230979 0.04654282]\n",
      "[0.65525026 0.77943501 0.8317448  0.87828762]\n"
     ]
    }
   ],
   "source": [
    "print ('Ratio of variance explained: ', var_ratio)\n",
    "# reduced features down to 4 components to get 88% ratio of variance explained\n",
    "print(pca.explained_variance_ratio_.cumsum())"
   ]
  },
  {
   "cell_type": "code",
   "execution_count": 16,
   "metadata": {},
   "outputs": [
    {
     "data": {
      "text/plain": [
       "<matplotlib.legend.Legend at 0x1a28760550>"
      ]
     },
     "execution_count": 16,
     "metadata": {},
     "output_type": "execute_result"
    },
    {
     "data": {
      "image/png": "[encoded data removed]",
      "text/plain": [
       "<Figure size 720x576 with 1 Axes>"
      ]
     },
     "metadata": {
      "needs_background": "light"
     },
     "output_type": "display_data"
    }
   ],
   "source": [
    "# each reaction to candidate corresponds to an index\n",
    "candidates = new_principalDf['presvote16post_2016']\n",
    "\n",
    "colormap = ['w','w','g','y','w','w','w', 'w']\n",
    "# visual new axes\n",
    "plt.figure(figsize=(10, 8))\n",
    "for i, c in enumerate(candidates.unique()):\n",
    "    Z_target = Z[new_principalDf['presvote16post_2016'] == c]\n",
    "    plt.scatter(Z_target[:, 0], Z_target[:, 1], c=colormap[i])\n",
    "    \n",
    "plt.legend(candidates.unique())"
   ]
  },
  {
   "cell_type": "code",
   "execution_count": 14,
   "metadata": {},
   "outputs": [
    {
     "data": {
      "text/plain": [
       "array([[ 0.42928519,  0.32891668,  0.27049132,  0.15370247, -0.46200778,\n",
       "        -0.41350862, -0.36246199,  0.30808893],\n",
       "       [-0.17763207,  0.22384456,  0.48470078,  0.58534096,  0.27165757,\n",
       "         0.28000293,  0.24293107,  0.35995359],\n",
       "       [-0.09971252, -0.53870264,  0.04219436,  0.48449483, -0.21722557,\n",
       "        -0.51887992,  0.32168304, -0.2084178 ],\n",
       "       [-0.41186077, -0.19385899, -0.08531805,  0.3470401 , -0.0330232 ,\n",
       "         0.15589904, -0.79445237, -0.09232433]])"
      ]
     },
     "execution_count": 14,
     "metadata": {},
     "output_type": "execute_result"
    }
   ],
   "source": [
    "# eigenvalues are given by the components of PCA\n",
    "pca.components_"
   ]
  },
  {
   "cell_type": "markdown",
   "metadata": {},
   "source": [
    "# Ending Remarks\n",
    "\n",
    "We successfully utilized the information in the survey to see where people fit within the political spectrum. Along the way, we were able to use the participants' opinions on presidential candidates and consolidate it to 4 principal components using PCA, which explains 88% of the variance in the data. Using this visualization, we are able to see there is a pretty prominent divide between our survey voters who voted Democratic versus those who voted Republican. It is incredibly interesting to note that many survey takers who did not vote are located all over the spectrum. For future analysis, it would be intriguing to re-evaluate the dataset with more factors to specifically differentiates these abstained voters from those who voted. \n",
    "\n",
    "## Ways to Improve\n",
    "1. Perform PCA with more features, see if that changes our visualization/analysis\n",
    "2. Keep track of these voters, and use this data to possibly predict the next election results. This would be interesting to see how voter behavior changes from election to election.\n"
   ]
  }
 ],
 "metadata": {
  "kernelspec": {
   "display_name": "Python 3",
   "language": "python",
   "name": "python3"
  },
  "language_info": {
   "codemirror_mode": {
    "name": "ipython",
    "version": 3
   },
   "file_extension": ".py",
   "mimetype": "text/x-python",
   "name": "python",
   "nbconvert_exporter": "python",
   "pygments_lexer": "ipython3",
   "version": "3.7.0"
  }
 },
 "nbformat": 4,
 "nbformat_minor": 2
}
